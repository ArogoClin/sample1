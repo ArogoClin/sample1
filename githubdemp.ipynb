{
 "cells": [
  {
   "cell_type": "code",
   "execution_count": 2,
   "id": "f6a53ea0-4133-489e-b1f6-949374087ec0",
   "metadata": {},
   "outputs": [],
   "source": [
    "name = 'Arogo'"
   ]
  },
  {
   "cell_type": "code",
   "execution_count": 3,
   "id": "71a29a68-5828-4a49-8c3e-f479c4a4996a",
   "metadata": {},
   "outputs": [
    {
     "name": "stdout",
     "output_type": "stream",
     "text": [
      "My name is Arogo, and this is my notebook!\n"
     ]
    }
   ],
   "source": [
    "print(f'My name is {name}, and this is my notebook!')"
   ]
  },
  {
   "cell_type": "code",
   "execution_count": null,
   "id": "31d356d3-a20a-4110-9180-201e209a3fe7",
   "metadata": {},
   "outputs": [],
   "source": []
  }
 ],
 "metadata": {
  "kernelspec": {
   "display_name": "Python 3 (ipykernel)",
   "language": "python",
   "name": "python3"
  },
  "language_info": {
   "codemirror_mode": {
    "name": "ipython",
    "version": 3
   },
   "file_extension": ".py",
   "mimetype": "text/x-python",
   "name": "python",
   "nbconvert_exporter": "python",
   "pygments_lexer": "ipython3",
   "version": "3.9.7"
  }
 },
 "nbformat": 4,
 "nbformat_minor": 5
}
